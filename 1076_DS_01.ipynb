{
  "nbformat": 4,
  "nbformat_minor": 0,
  "metadata": {
    "colab": {
      "provenance": [],
      "collapsed_sections": []
    },
    "kernelspec": {
      "name": "python3",
      "display_name": "Python 3"
    },
    "language_info": {
      "name": "python"
    }
  },
  "cells": [
    {
      "cell_type": "code",
      "execution_count": null,
      "metadata": {
        "id": "ZFPh-3rwhOjm"
      },
      "outputs": [],
      "source": [
        " #REG NO:1076_DS-01\n",
        " #NAME:KUNAPURI UMESHCHANDRA\n",
        " #DATE:13-10-2022\n",
        " #IDENTEFY VARIABLES AND THEIR TYPES (QUANTITATIVE OR QUALITATIVE)\n",
        " import numpy as np\n",
        " import pandas as pd\n"
      ]
    },
    {
      "cell_type": "code",
      "source": [
        "data=pd.read_csv(\"/content/Enrollments_28092022.csv\")\n",
        "data"
      ],
      "metadata": {
        "colab": {
          "base_uri": "https://localhost:8080/",
          "height": 424
        },
        "id": "XWWF23h1o8zC",
        "outputId": "20208796-536e-4929-c44a-5be442c02b1d"
      },
      "execution_count": null,
      "outputs": [
        {
          "output_type": "execute_result",
          "data": {
            "text/plain": [
              "     StudentNo  DEGREE  INTERMEDIATE   SSC                      INTERNSHIP\n",
              "0         1001    8.10          76.0  92.0                    Data Science\n",
              "1         1002    8.10          76.0  92.0      MEAN Stack Web Development\n",
              "2         1003    7.80          94.6  92.0      MEAN Stack Web Development\n",
              "3         1004    9.03          89.5  89.0                    Data Science\n",
              "4         1005    8.38          87.0  90.0      MEAN Stack Web Development\n",
              "..         ...     ...           ...   ...                             ...\n",
              "292       2188    8.70          94.1  93.0                    Data Science\n",
              "293       2189    8.45          90.0  93.0                    Data Science\n",
              "294       2190    8.40          94.9  98.0                    Data Science\n",
              "295       2191    7.06          90.6  88.0  Cloud Computing Services (AWS)\n",
              "296       2192    7.50          95.5  95.0  Cloud Computing Services (AWS)\n",
              "\n",
              "[297 rows x 5 columns]"
            ],
            "text/html": [
              "\n",
              "  <div id=\"df-09b4cd83-7362-4134-a0d8-21cac45e1acd\">\n",
              "    <div class=\"colab-df-container\">\n",
              "      <div>\n",
              "<style scoped>\n",
              "    .dataframe tbody tr th:only-of-type {\n",
              "        vertical-align: middle;\n",
              "    }\n",
              "\n",
              "    .dataframe tbody tr th {\n",
              "        vertical-align: top;\n",
              "    }\n",
              "\n",
              "    .dataframe thead th {\n",
              "        text-align: right;\n",
              "    }\n",
              "</style>\n",
              "<table border=\"1\" class=\"dataframe\">\n",
              "  <thead>\n",
              "    <tr style=\"text-align: right;\">\n",
              "      <th></th>\n",
              "      <th>StudentNo</th>\n",
              "      <th>DEGREE</th>\n",
              "      <th>INTERMEDIATE</th>\n",
              "      <th>SSC</th>\n",
              "      <th>INTERNSHIP</th>\n",
              "    </tr>\n",
              "  </thead>\n",
              "  <tbody>\n",
              "    <tr>\n",
              "      <th>0</th>\n",
              "      <td>1001</td>\n",
              "      <td>8.10</td>\n",
              "      <td>76.0</td>\n",
              "      <td>92.0</td>\n",
              "      <td>Data Science</td>\n",
              "    </tr>\n",
              "    <tr>\n",
              "      <th>1</th>\n",
              "      <td>1002</td>\n",
              "      <td>8.10</td>\n",
              "      <td>76.0</td>\n",
              "      <td>92.0</td>\n",
              "      <td>MEAN Stack Web Development</td>\n",
              "    </tr>\n",
              "    <tr>\n",
              "      <th>2</th>\n",
              "      <td>1003</td>\n",
              "      <td>7.80</td>\n",
              "      <td>94.6</td>\n",
              "      <td>92.0</td>\n",
              "      <td>MEAN Stack Web Development</td>\n",
              "    </tr>\n",
              "    <tr>\n",
              "      <th>3</th>\n",
              "      <td>1004</td>\n",
              "      <td>9.03</td>\n",
              "      <td>89.5</td>\n",
              "      <td>89.0</td>\n",
              "      <td>Data Science</td>\n",
              "    </tr>\n",
              "    <tr>\n",
              "      <th>4</th>\n",
              "      <td>1005</td>\n",
              "      <td>8.38</td>\n",
              "      <td>87.0</td>\n",
              "      <td>90.0</td>\n",
              "      <td>MEAN Stack Web Development</td>\n",
              "    </tr>\n",
              "    <tr>\n",
              "      <th>...</th>\n",
              "      <td>...</td>\n",
              "      <td>...</td>\n",
              "      <td>...</td>\n",
              "      <td>...</td>\n",
              "      <td>...</td>\n",
              "    </tr>\n",
              "    <tr>\n",
              "      <th>292</th>\n",
              "      <td>2188</td>\n",
              "      <td>8.70</td>\n",
              "      <td>94.1</td>\n",
              "      <td>93.0</td>\n",
              "      <td>Data Science</td>\n",
              "    </tr>\n",
              "    <tr>\n",
              "      <th>293</th>\n",
              "      <td>2189</td>\n",
              "      <td>8.45</td>\n",
              "      <td>90.0</td>\n",
              "      <td>93.0</td>\n",
              "      <td>Data Science</td>\n",
              "    </tr>\n",
              "    <tr>\n",
              "      <th>294</th>\n",
              "      <td>2190</td>\n",
              "      <td>8.40</td>\n",
              "      <td>94.9</td>\n",
              "      <td>98.0</td>\n",
              "      <td>Data Science</td>\n",
              "    </tr>\n",
              "    <tr>\n",
              "      <th>295</th>\n",
              "      <td>2191</td>\n",
              "      <td>7.06</td>\n",
              "      <td>90.6</td>\n",
              "      <td>88.0</td>\n",
              "      <td>Cloud Computing Services (AWS)</td>\n",
              "    </tr>\n",
              "    <tr>\n",
              "      <th>296</th>\n",
              "      <td>2192</td>\n",
              "      <td>7.50</td>\n",
              "      <td>95.5</td>\n",
              "      <td>95.0</td>\n",
              "      <td>Cloud Computing Services (AWS)</td>\n",
              "    </tr>\n",
              "  </tbody>\n",
              "</table>\n",
              "<p>297 rows × 5 columns</p>\n",
              "</div>\n",
              "      <button class=\"colab-df-convert\" onclick=\"convertToInteractive('df-09b4cd83-7362-4134-a0d8-21cac45e1acd')\"\n",
              "              title=\"Convert this dataframe to an interactive table.\"\n",
              "              style=\"display:none;\">\n",
              "        \n",
              "  <svg xmlns=\"http://www.w3.org/2000/svg\" height=\"24px\"viewBox=\"0 0 24 24\"\n",
              "       width=\"24px\">\n",
              "    <path d=\"M0 0h24v24H0V0z\" fill=\"none\"/>\n",
              "    <path d=\"M18.56 5.44l.94 2.06.94-2.06 2.06-.94-2.06-.94-.94-2.06-.94 2.06-2.06.94zm-11 1L8.5 8.5l.94-2.06 2.06-.94-2.06-.94L8.5 2.5l-.94 2.06-2.06.94zm10 10l.94 2.06.94-2.06 2.06-.94-2.06-.94-.94-2.06-.94 2.06-2.06.94z\"/><path d=\"M17.41 7.96l-1.37-1.37c-.4-.4-.92-.59-1.43-.59-.52 0-1.04.2-1.43.59L10.3 9.45l-7.72 7.72c-.78.78-.78 2.05 0 2.83L4 21.41c.39.39.9.59 1.41.59.51 0 1.02-.2 1.41-.59l7.78-7.78 2.81-2.81c.8-.78.8-2.07 0-2.86zM5.41 20L4 18.59l7.72-7.72 1.47 1.35L5.41 20z\"/>\n",
              "  </svg>\n",
              "      </button>\n",
              "      \n",
              "  <style>\n",
              "    .colab-df-container {\n",
              "      display:flex;\n",
              "      flex-wrap:wrap;\n",
              "      gap: 12px;\n",
              "    }\n",
              "\n",
              "    .colab-df-convert {\n",
              "      background-color: #E8F0FE;\n",
              "      border: none;\n",
              "      border-radius: 50%;\n",
              "      cursor: pointer;\n",
              "      display: none;\n",
              "      fill: #1967D2;\n",
              "      height: 32px;\n",
              "      padding: 0 0 0 0;\n",
              "      width: 32px;\n",
              "    }\n",
              "\n",
              "    .colab-df-convert:hover {\n",
              "      background-color: #E2EBFA;\n",
              "      box-shadow: 0px 1px 2px rgba(60, 64, 67, 0.3), 0px 1px 3px 1px rgba(60, 64, 67, 0.15);\n",
              "      fill: #174EA6;\n",
              "    }\n",
              "\n",
              "    [theme=dark] .colab-df-convert {\n",
              "      background-color: #3B4455;\n",
              "      fill: #D2E3FC;\n",
              "    }\n",
              "\n",
              "    [theme=dark] .colab-df-convert:hover {\n",
              "      background-color: #434B5C;\n",
              "      box-shadow: 0px 1px 3px 1px rgba(0, 0, 0, 0.15);\n",
              "      filter: drop-shadow(0px 1px 2px rgba(0, 0, 0, 0.3));\n",
              "      fill: #FFFFFF;\n",
              "    }\n",
              "  </style>\n",
              "\n",
              "      <script>\n",
              "        const buttonEl =\n",
              "          document.querySelector('#df-09b4cd83-7362-4134-a0d8-21cac45e1acd button.colab-df-convert');\n",
              "        buttonEl.style.display =\n",
              "          google.colab.kernel.accessAllowed ? 'block' : 'none';\n",
              "\n",
              "        async function convertToInteractive(key) {\n",
              "          const element = document.querySelector('#df-09b4cd83-7362-4134-a0d8-21cac45e1acd');\n",
              "          const dataTable =\n",
              "            await google.colab.kernel.invokeFunction('convertToInteractive',\n",
              "                                                     [key], {});\n",
              "          if (!dataTable) return;\n",
              "\n",
              "          const docLinkHtml = 'Like what you see? Visit the ' +\n",
              "            '<a target=\"_blank\" href=https://colab.research.google.com/notebooks/data_table.ipynb>data table notebook</a>'\n",
              "            + ' to learn more about interactive tables.';\n",
              "          element.innerHTML = '';\n",
              "          dataTable['output_type'] = 'display_data';\n",
              "          await google.colab.output.renderOutput(dataTable, element);\n",
              "          const docLink = document.createElement('div');\n",
              "          docLink.innerHTML = docLinkHtml;\n",
              "          element.appendChild(docLink);\n",
              "        }\n",
              "      </script>\n",
              "    </div>\n",
              "  </div>\n",
              "  "
            ]
          },
          "metadata": {},
          "execution_count": 2
        }
      ]
    },
    {
      "cell_type": "code",
      "source": [
        "data.info()"
      ],
      "metadata": {
        "colab": {
          "base_uri": "https://localhost:8080/"
        },
        "id": "VscPlcLKpsCO",
        "outputId": "1b48549d-f15f-4f1c-ed01-85bdfd410b98"
      },
      "execution_count": null,
      "outputs": [
        {
          "output_type": "stream",
          "name": "stdout",
          "text": [
            "<class 'pandas.core.frame.DataFrame'>\n",
            "RangeIndex: 297 entries, 0 to 296\n",
            "Data columns (total 5 columns):\n",
            " #   Column        Non-Null Count  Dtype  \n",
            "---  ------        --------------  -----  \n",
            " 0   StudentNo     297 non-null    int64  \n",
            " 1   DEGREE        297 non-null    float64\n",
            " 2   INTERMEDIATE  297 non-null    float64\n",
            " 3   SSC           297 non-null    float64\n",
            " 4   INTERNSHIP    297 non-null    object \n",
            "dtypes: float64(3), int64(1), object(1)\n",
            "memory usage: 11.7+ KB\n"
          ]
        }
      ]
    },
    {
      "cell_type": "code",
      "source": [
        "#Size of Data (No. of Columns and Rows)\n",
        "rows=len(data)\n",
        "cols=len(data.axes[1])\n",
        "print(\"rows:\",str(rows))\n",
        "print(\"cols:\",str(cols))"
      ],
      "metadata": {
        "colab": {
          "base_uri": "https://localhost:8080/"
        },
        "id": "xZ-nCKVmqpx7",
        "outputId": "95c37a49-5474-4525-c951-923186929671"
      },
      "execution_count": null,
      "outputs": [
        {
          "output_type": "stream",
          "name": "stdout",
          "text": [
            "rows: 297\n",
            "cols: 5\n"
          ]
        }
      ]
    },
    {
      "cell_type": "code",
      "source": [
        "import matplotlib.pyplot as plt\n",
        "import statistics as stat"
      ],
      "metadata": {
        "id": "g7wf8YehrUfD"
      },
      "execution_count": null,
      "outputs": []
    },
    {
      "cell_type": "code",
      "source": [
        "# Prepare Histogram for Degree, Inter and 10th Class\n",
        "plt.hist(data['DEGREE'])\n",
        "plt.show\n"
      ],
      "metadata": {
        "colab": {
          "base_uri": "https://localhost:8080/",
          "height": 282
        },
        "id": "5lC_cEN_rfjt",
        "outputId": "4d5c346e-f802-4054-9c73-21ab5debd36a"
      },
      "execution_count": null,
      "outputs": [
        {
          "output_type": "execute_result",
          "data": {
            "text/plain": [
              "<function matplotlib.pyplot.show(*args, **kw)>"
            ]
          },
          "metadata": {},
          "execution_count": 6
        },
        {
          "output_type": "display_data",
          "data": {
            "text/plain": [
              "<Figure size 432x288 with 1 Axes>"
            ],
            "image/png": "[encoded data removed]"
          },
          "metadata": {
            "needs_background": "light"
          }
        }
      ]
    },
    {
      "cell_type": "code",
      "source": [
        "plt.hist(data['SSC'])\n",
        "plt.show"
      ],
      "metadata": {
        "colab": {
          "base_uri": "https://localhost:8080/",
          "height": 282
        },
        "id": "pbXDlhXgrxNY",
        "outputId": "2280c1ee-e7eb-43fb-b9a2-d49f5564f740"
      },
      "execution_count": null,
      "outputs": [
        {
          "output_type": "execute_result",
          "data": {
            "text/plain": [
              "<function matplotlib.pyplot.show(*args, **kw)>"
            ]
          },
          "metadata": {},
          "execution_count": 7
        },
        {
          "output_type": "display_data",
          "data": {
            "text/plain": [
              "<Figure size 432x288 with 1 Axes>"
            ],
            "image/png": "[encoded data removed]"
          },
          "metadata": {
            "needs_background": "light"
          }
        }
      ]
    },
    {
      "cell_type": "code",
      "source": [
        "plt.hist(data['INTERMEDIATE'])\n",
        "plt.show\n"
      ],
      "metadata": {
        "colab": {
          "base_uri": "https://localhost:8080/",
          "height": 282
        },
        "id": "slNuVfU6sD_r",
        "outputId": "fde88fc0-99af-4db0-e64e-66e31b649ca3"
      },
      "execution_count": null,
      "outputs": [
        {
          "output_type": "execute_result",
          "data": {
            "text/plain": [
              "<function matplotlib.pyplot.show(*args, **kw)>"
            ]
          },
          "metadata": {},
          "execution_count": 8
        },
        {
          "output_type": "display_data",
          "data": {
            "text/plain": [
              "<Figure size 432x288 with 1 Axes>"
            ],
            "image/png": "[encoded data removed]"
          },
          "metadata": {
            "needs_background": "light"
          }
        }
      ]
    },
    {
      "cell_type": "code",
      "source": [
        "#Create Pie-Chart to represent the Enrollments for each Internship Program\n",
        "interncourses=['Data science','web development','aws']\n",
        "enrollments=[156,51,90]\n",
        "plt.pie(enrollments,labels=interncourses)\n",
        "plt.show()\n"
      ],
      "metadata": {
        "colab": {
          "base_uri": "https://localhost:8080/",
          "height": 248
        },
        "id": "5TUOTW0ZsxOq",
        "outputId": "4a983f96-ba8a-40a1-bf9d-531fa889b540"
      },
      "execution_count": null,
      "outputs": [
        {
          "output_type": "display_data",
          "data": {
            "text/plain": [
              "<Figure size 432x288 with 1 Axes>"
            ],
            "image/png": "[encoded data removed]"
          },
          "metadata": {}
        }
      ]
    },
    {
      "cell_type": "code",
      "source": [
        "#Find No. of Enrollments for each Internship Program\n",
        "data['INTERNSHIP'].value_counts()\n"
      ],
      "metadata": {
        "colab": {
          "base_uri": "https://localhost:8080/"
        },
        "id": "v3M8iQKBsSeA",
        "outputId": "c44fe946-687a-41ea-c957-ea2da656d8e2"
      },
      "execution_count": null,
      "outputs": [
        {
          "output_type": "execute_result",
          "data": {
            "text/plain": [
              "Data Science                      156\n",
              "Cloud Computing Services (AWS)     90\n",
              "MEAN Stack Web Development         51\n",
              "Name: INTERNSHIP, dtype: int64"
            ]
          },
          "metadata": {},
          "execution_count": 9
        }
      ]
    },
    {
      "cell_type": "code",
      "source": [
        "#Find Measure of Central Tendency: MEAN, MEDIAN, MODE for Degree,Inter and 10th\n",
        "print(\"DEGREE\")\n",
        "print(\"mean=\",np.mean(data['DEGREE']))\n",
        "print(\"median=\",np.median(data['DEGREE']))\n",
        "print(\"mode=\",stat.mode(data['DEGREE']))\n",
        "print(\"INTERMEDIATE\")\n",
        "print(\"mean=\",np.mean(data['INTERMEDIATE']))\n",
        "print(\"median=\",np.median(data['INTERMEDIATE']))\n",
        "print(\"mode=\",stat.mode(data['INTERMEDIATE']))\n",
        "print(\"SSC\")\n",
        "print(\"mean=\",np.mean(data['SSC']))\n",
        "print(\"median=\",np.median(data['SSC']))\n",
        "print(\"mode=\",stat.mode(data['SSC']))\n"
      ],
      "metadata": {
        "colab": {
          "base_uri": "https://localhost:8080/"
        },
        "id": "jeEZS6_2sk6O",
        "outputId": "7a717504-9a81-40f1-bf25-843b321c418c"
      },
      "execution_count": null,
      "outputs": [
        {
          "output_type": "stream",
          "name": "stdout",
          "text": [
            "DEGREE\n",
            "mean= 7.928080808080809\n",
            "median= 8.0\n",
            "mode= 7.0\n",
            "INTERMEDIATE\n",
            "mean= 88.66262626262626\n",
            "median= 90.8\n",
            "mode= 95.0\n",
            "SSC\n",
            "mean= 88.10673400673402\n",
            "median= 90.0\n",
            "mode= 95.0\n"
          ]
        }
      ]
    },
    {
      "cell_type": "code",
      "source": [
        "#Find Measure of Variance: Minimum, Maximum, Range, Mean Deviation,\n",
        "#Standard Deviation, Co-efficient of Variation for Degree, Inter and 10th\n",
        "cv= lambda x: np.std(x, ddof=1)/np.mean(x)*100\n",
        "print(\"DEGREE\")\n",
        "print(\"Range=\",max(data['DEGREE'])-min(data['DEGREE']))\n",
        "print(\"Co-efficient of variation=\",cv(data['DEGREE']))\n",
        "data['DEGREE'].describe()"
      ],
      "metadata": {
        "colab": {
          "base_uri": "https://localhost:8080/"
        },
        "id": "y26jrhBTtlfM",
        "outputId": "6a460214-8230-48ca-9540-854dc6b527ba"
      },
      "execution_count": null,
      "outputs": [
        {
          "output_type": "stream",
          "name": "stdout",
          "text": [
            "DEGREE\n",
            "Range= 3.7299999999999995\n",
            "Co-efficient of variation= 9.90881225818308\n"
          ]
        },
        {
          "output_type": "execute_result",
          "data": {
            "text/plain": [
              "count    297.000000\n",
              "mean       7.928081\n",
              "std        0.785579\n",
              "min        5.800000\n",
              "25%        7.400000\n",
              "50%        8.000000\n",
              "75%        8.560000\n",
              "max        9.530000\n",
              "Name: DEGREE, dtype: float64"
            ]
          },
          "metadata": {},
          "execution_count": 12
        }
      ]
    },
    {
      "cell_type": "code",
      "source": [
        "print(\"INTERMEDIATE\")\n",
        "print(\"Range=\",max(data['DEGREE'])-min(data['INTERMEDIATE']))\n",
        "print(\"Co-efficient of variation=\",cv(data['INTERMEDIATE']))\n",
        "data['INTERMEDIATE'].describe()"
      ],
      "metadata": {
        "colab": {
          "base_uri": "https://localhost:8080/"
        },
        "id": "t0eM-KTNuFyR",
        "outputId": "8bd7b0c7-22ab-4a24-fd6e-ec6e423c8ba1"
      },
      "execution_count": null,
      "outputs": [
        {
          "output_type": "stream",
          "name": "stdout",
          "text": [
            "INTERMEDIATE\n",
            "Range= -55.47\n",
            "Co-efficient of variation= 8.29631726338337\n"
          ]
        },
        {
          "output_type": "execute_result",
          "data": {
            "text/plain": [
              "count    297.000000\n",
              "mean      88.662626\n",
              "std        7.355733\n",
              "min       65.000000\n",
              "25%       83.000000\n",
              "50%       90.800000\n",
              "75%       94.600000\n",
              "max       99.400000\n",
              "Name: INTERMEDIATE, dtype: float64"
            ]
          },
          "metadata": {},
          "execution_count": 13
        }
      ]
    },
    {
      "cell_type": "code",
      "source": [
        "print(\"SSC\")\n",
        "print(\"Range=\",max(data['DEGREE'])-min(data['SSC']))\n",
        "print(\"Co-efficient of variation=\",cv(data['SSC']))\n",
        "data['SSC'].describe()"
      ],
      "metadata": {
        "colab": {
          "base_uri": "https://localhost:8080/"
        },
        "id": "Mmb7ZmF5uTVW",
        "outputId": "85e43092-86f9-4b1a-b7f8-95937e3b8031"
      },
      "execution_count": null,
      "outputs": [
        {
          "output_type": "stream",
          "name": "stdout",
          "text": [
            "SSC\n",
            "Range= -28.869999999999997\n",
            "Co-efficient of variation= 10.24664491920062\n"
          ]
        },
        {
          "output_type": "execute_result",
          "data": {
            "text/plain": [
              "count    297.000000\n",
              "mean      88.106734\n",
              "std        9.027984\n",
              "min       38.400000\n",
              "25%       85.000000\n",
              "50%       90.000000\n",
              "75%       95.000000\n",
              "max       99.000000\n",
              "Name: SSC, dtype: float64"
            ]
          },
          "metadata": {},
          "execution_count": 15
        }
      ]
    },
    {
      "cell_type": "code",
      "source": [
        "#Measures of Position: Standard Scores for Degree, Inter and 10th\n",
        "import scipy.stats as stats\n",
        "print(\"Standard scores of Degree\")\n",
        "print(stats.zscore(data['DEGREE']))"
      ],
      "metadata": {
        "colab": {
          "base_uri": "https://localhost:8080/"
        },
        "id": "z_ylnEwjvSq7",
        "outputId": "465546cf-bcbf-4d8e-c904-ce6b2b47178b"
      },
      "execution_count": null,
      "outputs": [
        {
          "output_type": "stream",
          "name": "stdout",
          "text": [
            "Standard scores of Degree\n",
            "0      0.219213\n",
            "1      0.219213\n",
            "2     -0.163315\n",
            "3      1.405052\n",
            "4      0.576240\n",
            "         ...   \n",
            "292    0.984271\n",
            "293    0.665497\n",
            "294    0.601742\n",
            "295   -1.106886\n",
            "296   -0.545844\n",
            "Name: DEGREE, Length: 297, dtype: float64\n"
          ]
        }
      ]
    },
    {
      "cell_type": "code",
      "source": [
        "print(\"Standard scores of Intermediate\")\n",
        "print(stats.zscore(data['INTERMEDIATE']))\n"
      ],
      "metadata": {
        "colab": {
          "base_uri": "https://localhost:8080/"
        },
        "id": "xe6VFnsPvyHT",
        "outputId": "edda99dc-3c1a-4c23-93c8-cddfa7a5ddaf"
      },
      "execution_count": null,
      "outputs": [
        {
          "output_type": "stream",
          "name": "stdout",
          "text": [
            "Standard scores of Intermediate\n",
            "0     -1.724369\n",
            "1     -1.724369\n",
            "2      0.808539\n",
            "3      0.114032\n",
            "4     -0.226413\n",
            "         ...   \n",
            "292    0.740450\n",
            "293    0.182121\n",
            "294    0.849392\n",
            "295    0.263827\n",
            "296    0.931099\n",
            "Name: INTERMEDIATE, Length: 297, dtype: float64\n"
          ]
        }
      ]
    },
    {
      "cell_type": "code",
      "source": [
        "print(\"Standard scores of Ssc\")\n",
        "print(stats.zscore(data['SSC']))"
      ],
      "metadata": {
        "colab": {
          "base_uri": "https://localhost:8080/"
        },
        "id": "o-7Z9a3wwLBa",
        "outputId": "1320e22d-a970-4401-fa5c-8d720740ecd1"
      },
      "execution_count": null,
      "outputs": [
        {
          "output_type": "stream",
          "name": "stdout",
          "text": [
            "Standard scores of Ssc\n",
            "0      0.431972\n",
            "1      0.431972\n",
            "2      0.431972\n",
            "3      0.099111\n",
            "4      0.210065\n",
            "         ...   \n",
            "292    0.542926\n",
            "293    0.542926\n",
            "294    1.097694\n",
            "295   -0.011843\n",
            "296    0.764833\n",
            "Name: SSC, Length: 297, dtype: float64\n"
          ]
        }
      ]
    },
    {
      "cell_type": "code",
      "source": [
        "#Identify Outliers for Degree, Inter and 10th\n",
        "def outlier(a):\n",
        "  q1 = np.quantile(a,0.25)\n",
        "  q2 = np.quantile(a,0.75)\n",
        "  m = np.median(a)\n",
        "  iqr = q2-q1\n",
        "  u_bound = q2+(1.5*iqr)\n",
        "  l_bound = q1-(1.5*iqr)\n",
        "  print(iqr,u_bound,l_bound)\n",
        "  print(\"Inter Quartile Range:\",iqr)\n",
        "  outliers = a[(a<= l_bound)|(a>= u_bound)]\n",
        "  print(\"outliers in boxplot:\\n{}\".format(outliers))\n",
        "outlier(data['DEGREE'])"
      ],
      "metadata": {
        "colab": {
          "base_uri": "https://localhost:8080/"
        },
        "id": "W9dhVQm_wT2s",
        "outputId": "7ef632fb-4c2e-4f0e-8c17-a3bc2de024a6"
      },
      "execution_count": null,
      "outputs": [
        {
          "output_type": "stream",
          "name": "stdout",
          "text": [
            "1.1600000000000001 10.3 5.66\n",
            "Inter Quartile Range: 1.1600000000000001\n",
            "outliers in boxplot:\n",
            "Series([], Name: DEGREE, dtype: float64)\n"
          ]
        }
      ]
    },
    {
      "cell_type": "code",
      "source": [
        "outlier(data['INTERMEDIATE'])"
      ],
      "metadata": {
        "colab": {
          "base_uri": "https://localhost:8080/"
        },
        "id": "p_t9AWUMw4_z",
        "outputId": "657ff1f9-8494-4b23-809d-6d79b5fa992b"
      },
      "execution_count": null,
      "outputs": [
        {
          "output_type": "stream",
          "name": "stdout",
          "text": [
            "11.599999999999994 111.99999999999999 65.60000000000001\n",
            "Inter Quartile Range: 11.599999999999994\n",
            "outliers in boxplot:\n",
            "271    65.0\n",
            "Name: INTERMEDIATE, dtype: float64\n"
          ]
        }
      ]
    },
    {
      "cell_type": "code",
      "source": [
        "outlier(data['SSC'])"
      ],
      "metadata": {
        "colab": {
          "base_uri": "https://localhost:8080/"
        },
        "id": "67CF6UozxBFh",
        "outputId": "b7d3d5ac-8d2c-44ef-d541-ad9b957365a5"
      },
      "execution_count": null,
      "outputs": [
        {
          "output_type": "stream",
          "name": "stdout",
          "text": [
            "10.0 110.0 70.0\n",
            "Inter Quartile Range: 10.0\n",
            "outliers in boxplot:\n",
            "5      64.0\n",
            "7      70.0\n",
            "31     60.0\n",
            "51     68.0\n",
            "69     60.0\n",
            "82     65.6\n",
            "86     50.0\n",
            "107    64.0\n",
            "236    38.4\n",
            "237    67.0\n",
            "243    40.2\n",
            "270    65.0\n",
            "288    65.0\n",
            "Name: SSC, dtype: float64\n"
          ]
        }
      ]
    },
    {
      "cell_type": "code",
      "source": [
        "#Create Box Plot for Degree, Inter and 10th\n",
        "plt.boxplot(data['DEGREE'])\n",
        "plt.show"
      ],
      "metadata": {
        "colab": {
          "base_uri": "https://localhost:8080/",
          "height": 282
        },
        "id": "Qxnwn5exxIO6",
        "outputId": "66c5403c-dee5-439f-e2cb-b2adc88490a2"
      },
      "execution_count": null,
      "outputs": [
        {
          "output_type": "execute_result",
          "data": {
            "text/plain": [
              "<function matplotlib.pyplot.show(*args, **kw)>"
            ]
          },
          "metadata": {},
          "execution_count": 23
        },
        {
          "output_type": "display_data",
          "data": {
            "text/plain": [
              "<Figure size 432x288 with 1 Axes>"
            ],
            "image/png": "[encoded data removed]"
          },
          "metadata": {
            "needs_background": "light"
          }
        }
      ]
    },
    {
      "cell_type": "code",
      "source": [
        "plt.boxplot(data['INTERMEDIATE'])\n",
        "plt.show"
      ],
      "metadata": {
        "colab": {
          "base_uri": "https://localhost:8080/",
          "height": 282
        },
        "id": "y79329dyxoQA",
        "outputId": "528d1d5c-285e-40e0-a8f8-2ca4f9ab99a5"
      },
      "execution_count": null,
      "outputs": [
        {
          "output_type": "execute_result",
          "data": {
            "text/plain": [
              "<function matplotlib.pyplot.show(*args, **kw)>"
            ]
          },
          "metadata": {},
          "execution_count": 24
        },
        {
          "output_type": "display_data",
          "data": {
            "text/plain": [
              "<Figure size 432x288 with 1 Axes>"
            ],
            "image/png": "[encoded data removed]"
          },
          "metadata": {
            "needs_background": "light"
          }
        }
      ]
    },
    {
      "cell_type": "code",
      "source": [
        "plt.boxplot(data['SSC'])\n",
        "plt.show"
      ],
      "metadata": {
        "colab": {
          "base_uri": "https://localhost:8080/",
          "height": 282
        },
        "id": "4xREsVAcxwyM",
        "outputId": "8ed7c658-2345-4843-a47c-0a9ea3926d3e"
      },
      "execution_count": null,
      "outputs": [
        {
          "output_type": "execute_result",
          "data": {
            "text/plain": [
              "<function matplotlib.pyplot.show(*args, **kw)>"
            ]
          },
          "metadata": {},
          "execution_count": 25
        },
        {
          "output_type": "display_data",
          "data": {
            "text/plain": [
              "<Figure size 432x288 with 1 Axes>"
            ],
            "image/png": "[encoded data removed]"
          },
          "metadata": {
            "needs_background": "light"
          }
        }
      ]
    },
    {
      "cell_type": "code",
      "source": [
        "#Identify No. of Students with 90% percentile for Degree, Inter and 10th Class\n",
        "def func(c):\n",
        "  quantile = np.quantile(c, 0.9)\n",
        "  Data=c[c==quantile]\n",
        "  print(\"Students with 90% percentile:\",Data.count())\n",
        "func(data['DEGREE'])\n"
      ],
      "metadata": {
        "colab": {
          "base_uri": "https://localhost:8080/"
        },
        "id": "Xwh4Hzohx1lC",
        "outputId": "9734ca8c-c3c5-4423-abba-0debc18695ce"
      },
      "execution_count": null,
      "outputs": [
        {
          "output_type": "stream",
          "name": "stdout",
          "text": [
            "Students with 90% percentile: 3\n"
          ]
        }
      ]
    },
    {
      "cell_type": "code",
      "source": [
        "func(data['INTERMEDIATE'])\n"
      ],
      "metadata": {
        "colab": {
          "base_uri": "https://localhost:8080/"
        },
        "id": "FXlcwH7ryRQ8",
        "outputId": "532dc859-b224-4596-cb1b-fea80877172a"
      },
      "execution_count": null,
      "outputs": [
        {
          "output_type": "stream",
          "name": "stdout",
          "text": [
            "Students with 90% percentile: 3\n"
          ]
        }
      ]
    },
    {
      "cell_type": "code",
      "source": [
        "func(data['SSC'])"
      ],
      "metadata": {
        "colab": {
          "base_uri": "https://localhost:8080/"
        },
        "id": "IejPPQBYyXUe",
        "outputId": "8a1d9ffa-a0e0-4d0c-87a3-157b1c0ab414"
      },
      "execution_count": null,
      "outputs": [
        {
          "output_type": "stream",
          "name": "stdout",
          "text": [
            "Students with 90% percentile: 19\n"
          ]
        }
      ]
    }
  ]
}